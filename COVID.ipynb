{
 "cells": [
  {
   "cell_type": "code",
   "execution_count": 1,
   "metadata": {},
   "outputs": [],
   "source": [
    "# for interact feature\n",
    "from __future__ import print_function\n",
    "from ipywidgets import interact, interactive, fixed, interact_manual\n",
    "import ipywidgets as widgets\n",
    "\n",
    "# data science packages\n",
    "from datascience import *\n",
    "import numpy as np\n",
    "import re\n",
    "from pandas import *\n",
    "\n",
    "\n",
    "# direct plots to appear within the cell, and set their style\n",
    "%matplotlib inline\n",
    "import matplotlib.pyplot as plt\n",
    "plt.style.use('fivethirtyeight')"
   ]
  },
  {
   "cell_type": "code",
   "execution_count": 2,
   "metadata": {},
   "outputs": [
    {
     "data": {
      "text/html": [
       "<table border=\"1\" class=\"dataframe\">\n",
       "    <thead>\n",
       "        <tr>\n",
       "            <th>date</th> <th>state</th> <th>positive</th> <th>negative</th> <th>pending</th> <th>hospitalized</th> <th>death</th> <th>total</th> <th>dateChecked</th> <th>totalTestResults</th> <th>deathIncrease</th> <th>hospitalizedIncrease</th> <th>negativeIncrease</th> <th>positiveIncrease</th> <th>totalTestResultsIncrease</th>\n",
       "        </tr>\n",
       "    </thead>\n",
       "    <tbody>\n",
       "        <tr>\n",
       "            <td>20200325</td> <td>AK   </td> <td>42      </td> <td>1649    </td> <td>nan    </td> <td>1           </td> <td>1    </td> <td>1691 </td> <td>2020-03-25T20:00:00Z</td> <td>1691            </td> <td>1            </td> <td>1                   </td> <td>663             </td> <td>6               </td> <td>669                     </td>\n",
       "        </tr>\n",
       "        <tr>\n",
       "            <td>20200325</td> <td>AL   </td> <td>283     </td> <td>2529    </td> <td>nan    </td> <td>nan         </td> <td>0    </td> <td>2812 </td> <td>2020-03-25T20:00:00Z</td> <td>2812            </td> <td>0            </td> <td>0                   </td> <td>423             </td> <td>68              </td> <td>491                     </td>\n",
       "        </tr>\n",
       "        <tr>\n",
       "            <td>20200325</td> <td>AR   </td> <td>280     </td> <td>1437    </td> <td>0      </td> <td>22          </td> <td>2    </td> <td>1717 </td> <td>2020-03-25T20:00:00Z</td> <td>1717            </td> <td>2            </td> <td>0                   </td> <td>490             </td> <td>62              </td> <td>552                     </td>\n",
       "        </tr>\n",
       "        <tr>\n",
       "            <td>20200325</td> <td>AS   </td> <td>0       </td> <td>nan     </td> <td>nan    </td> <td>nan         </td> <td>0    </td> <td>0    </td> <td>2020-03-25T20:00:00Z</td> <td>0               </td> <td>0            </td> <td>0                   </td> <td>0               </td> <td>0               </td> <td>0                       </td>\n",
       "        </tr>\n",
       "        <tr>\n",
       "            <td>20200325</td> <td>AZ   </td> <td>450     </td> <td>323     </td> <td>53     </td> <td>8           </td> <td>6    </td> <td>826  </td> <td>2020-03-25T20:00:00Z</td> <td>773             </td> <td>1            </td> <td>0                   </td> <td>10              </td> <td>93              </td> <td>103                     </td>\n",
       "        </tr>\n",
       "    </tbody>\n",
       "</table>\n",
       "<p>... (1088 rows omitted)</p>"
      ],
      "text/plain": [
       "<IPython.core.display.HTML object>"
      ]
     },
     "metadata": {},
     "output_type": "display_data"
    }
   ],
   "source": [
    "# read in the covid data\n",
    "covid = Table.read_table(\"/home/jupyter-djf47/us_states_covid19_daily.csv\")\n",
    "covid.show(5)"
   ]
  },
  {
   "cell_type": "code",
   "execution_count": 3,
   "metadata": {},
   "outputs": [],
   "source": [
    "# converts date format in the covid table to just a number (since all dates are in March)\n",
    "\n",
    "def convertDate(date):\n",
    "    str_date = str(date)\n",
    "    day = str_date[6:] # since first 6 digits are the year, 2020, and the month, 03\n",
    "    return int(day)\n",
    "\n",
    "# Apply this function to the covid table date column\n",
    "\n",
    "covid = covid.with_column('date', covid.apply(convertDate, 0))"
   ]
  },
  {
   "cell_type": "code",
   "execution_count": 4,
   "metadata": {},
   "outputs": [
    {
     "data": {
      "text/html": [
       "<table border=\"1\" class=\"dataframe\">\n",
       "    <thead>\n",
       "        <tr>\n",
       "            <th>date</th> <th>state</th> <th>positive</th> <th>negative</th> <th>pending</th> <th>hospitalized</th> <th>death</th> <th>total</th> <th>dateChecked</th> <th>totalTestResults</th> <th>deathIncrease</th> <th>hospitalizedIncrease</th> <th>negativeIncrease</th> <th>positiveIncrease</th> <th>totalTestResultsIncrease</th>\n",
       "        </tr>\n",
       "    </thead>\n",
       "    <tbody>\n",
       "        <tr>\n",
       "            <td>25  </td> <td>CA   </td> <td>2102    </td> <td>13452   </td> <td>12100  </td> <td>nan         </td> <td>40   </td> <td>27654</td> <td>2020-03-25T20:00:00Z</td> <td>15554           </td> <td>0            </td> <td>0                   </td> <td>0               </td> <td>0               </td> <td>0                       </td>\n",
       "        </tr>\n",
       "        <tr>\n",
       "            <td>24  </td> <td>CA   </td> <td>2102    </td> <td>13452   </td> <td>12100  </td> <td>nan         </td> <td>40   </td> <td>27654</td> <td>2020-03-24T20:00:00Z</td> <td>15554           </td> <td>13           </td> <td>0                   </td> <td>885             </td> <td>369             </td> <td>1254                    </td>\n",
       "        </tr>\n",
       "        <tr>\n",
       "            <td>23  </td> <td>CA   </td> <td>1733    </td> <td>12567   </td> <td>12100  </td> <td>nan         </td> <td>27   </td> <td>26400</td> <td>2020-03-23T20:00:00Z</td> <td>14300           </td> <td>0            </td> <td>0                   </td> <td>1263            </td> <td>197             </td> <td>1460                    </td>\n",
       "        </tr>\n",
       "        <tr>\n",
       "            <td>22  </td> <td>CA   </td> <td>1536    </td> <td>11304   </td> <td>nan    </td> <td>nan         </td> <td>27   </td> <td>12840</td> <td>2020-03-22T20:00:00Z</td> <td>12840           </td> <td>3            </td> <td>0                   </td> <td>55              </td> <td>257             </td> <td>312                     </td>\n",
       "        </tr>\n",
       "        <tr>\n",
       "            <td>21  </td> <td>CA   </td> <td>1279    </td> <td>11249   </td> <td>nan    </td> <td>nan         </td> <td>24   </td> <td>12528</td> <td>2020-03-21T20:00:00Z</td> <td>12528           </td> <td>4            </td> <td>0                   </td> <td>825             </td> <td>216             </td> <td>1041                    </td>\n",
       "        </tr>\n",
       "    </tbody>\n",
       "</table>\n",
       "<p>... (17 rows omitted)</p>"
      ],
      "text/plain": [
       "<IPython.core.display.HTML object>"
      ]
     },
     "metadata": {},
     "output_type": "display_data"
    }
   ],
   "source": [
    "# the covid table filtered to CA\n",
    "\n",
    "CA_covid = covid.where(1, 'CA')\n",
    "CA_covid.show(5)"
   ]
  },
  {
   "cell_type": "code",
   "execution_count": 5,
   "metadata": {},
   "outputs": [
    {
     "data": {
      "text/plain": [
       "[['AK'],\n",
       " ['AL'],\n",
       " ['AR'],\n",
       " ['AS'],\n",
       " ['AZ'],\n",
       " ['CA'],\n",
       " ['CO'],\n",
       " ['CT'],\n",
       " ['DC'],\n",
       " ['DE'],\n",
       " ['FL'],\n",
       " ['GA'],\n",
       " ['GU'],\n",
       " ['HI'],\n",
       " ['IA'],\n",
       " ['ID'],\n",
       " ['IL'],\n",
       " ['IN'],\n",
       " ['KS'],\n",
       " ['KY'],\n",
       " ['LA'],\n",
       " ['MA'],\n",
       " ['MD'],\n",
       " ['ME'],\n",
       " ['MI'],\n",
       " ['MN'],\n",
       " ['MO'],\n",
       " ['MP'],\n",
       " ['MS'],\n",
       " ['MT'],\n",
       " ['NC'],\n",
       " ['ND'],\n",
       " ['NE'],\n",
       " ['NH'],\n",
       " ['NJ'],\n",
       " ['NM'],\n",
       " ['NV'],\n",
       " ['NY'],\n",
       " ['OH'],\n",
       " ['OK'],\n",
       " ['OR'],\n",
       " ['PA'],\n",
       " ['PR'],\n",
       " ['RI'],\n",
       " ['SC'],\n",
       " ['SD'],\n",
       " ['TN'],\n",
       " ['TX'],\n",
       " ['UT'],\n",
       " ['VA'],\n",
       " ['VI'],\n",
       " ['VT'],\n",
       " ['WA'],\n",
       " ['WI'],\n",
       " ['WV'],\n",
       " ['WY']]"
      ]
     },
     "execution_count": 5,
     "metadata": {},
     "output_type": "execute_result"
    }
   ],
   "source": [
    "# creates a list of list of states, for use in the interact feature below\n",
    "\n",
    "def createListStates(states):\n",
    "    result = []\n",
    "    for i in states:\n",
    "        result.append([str(i)])\n",
    "    return result\n",
    "\n",
    "listofstates = createListStates(covid.group(1).column(0))\n",
    "listofstates"
   ]
  },
  {
   "cell_type": "code",
   "execution_count": 6,
   "metadata": {},
   "outputs": [
    {
     "data": {
      "text/plain": [
       "[6, 11, 15, 18]"
      ]
     },
     "execution_count": 6,
     "metadata": {},
     "output_type": "execute_result"
    }
   ],
   "source": [
    "# returns an array of the days that the number of cases were double the number of cases of the previous double day, starting with day 1\n",
    "\n",
    "def doubled_days(date, cases): #takes date and positive cases array in ascending order\n",
    "    current = cases[0]\n",
    "    days_doubled = []\n",
    "    for i in np.arange(0,len(date)):\n",
    "        if (cases[i] >= (2*current)):\n",
    "            current = cases[i]\n",
    "            days_doubled.append(date[i]-(date[0]-1)) #subtract because the 1st day of data is not March 1st\n",
    "    return days_doubled\n",
    "\n",
    "CA_covid_ascending = CA_covid.sort(2, descending = False)\n",
    "dates_array = CA_covid_ascending.column(0)\n",
    "cases_array = CA_covid_ascending.column(2)\n",
    "dates_array.sort()\n",
    "cases_array.sort()\n",
    "\n",
    "days_doubled = doubled_days(dates_array, cases_array) \n",
    "days_doubled # for CA"
   ]
  },
  {
   "cell_type": "markdown",
   "metadata": {},
   "source": [
    "#### Explanation of this result\n",
    "\n",
    "This array, [6, 11, 15, 18] means that on the 6th, 11th, etc. day of recording data, the number of cases was double what it was the last time it doubled. For example (this is re-stated at the end of this file), on day 1 (March 4th) there were 53 cases. This first doubled (to 114) on the 6th day of recording data (March 9th). This then doubled again on the 11th day (to 252 on March 14th), etc. Take a look at the table below for confirmation of this."
   ]
  },
  {
   "cell_type": "code",
   "execution_count": 7,
   "metadata": {},
   "outputs": [
    {
     "data": {
      "text/html": [
       "<table border=\"1\" class=\"dataframe\">\n",
       "    <thead>\n",
       "        <tr>\n",
       "            <th>date</th> <th>state</th> <th>positive</th> <th>negative</th> <th>pending</th> <th>hospitalized</th> <th>death</th> <th>total</th> <th>dateChecked</th> <th>totalTestResults</th> <th>deathIncrease</th> <th>hospitalizedIncrease</th> <th>negativeIncrease</th> <th>positiveIncrease</th> <th>totalTestResultsIncrease</th>\n",
       "        </tr>\n",
       "    </thead>\n",
       "    <tbody>\n",
       "        <tr>\n",
       "            <td>5   </td> <td>CA   </td> <td>53      </td> <td>462     </td> <td>nan    </td> <td>nan         </td> <td>nan  </td> <td>515  </td> <td>2020-03-05T21:00:00Z</td> <td>515             </td> <td>0            </td> <td>0                   </td> <td>0               </td> <td>0               </td> <td>0                       </td>\n",
       "        </tr>\n",
       "        <tr>\n",
       "            <td>4   </td> <td>CA   </td> <td>53      </td> <td>462     </td> <td>nan    </td> <td>nan         </td> <td>nan  </td> <td>515  </td> <td>2020-03-04T21:00:00Z</td> <td>515             </td> <td>nan          </td> <td>nan                 </td> <td>nan             </td> <td>nan             </td> <td>nan                     </td>\n",
       "        </tr>\n",
       "        <tr>\n",
       "            <td>6   </td> <td>CA   </td> <td>60      </td> <td>462     </td> <td>nan    </td> <td>nan         </td> <td>nan  </td> <td>522  </td> <td>2020-03-06T21:00:00Z</td> <td>522             </td> <td>0            </td> <td>0                   </td> <td>0               </td> <td>7               </td> <td>7                       </td>\n",
       "        </tr>\n",
       "        <tr>\n",
       "            <td>7   </td> <td>CA   </td> <td>69      </td> <td>462     </td> <td>nan    </td> <td>nan         </td> <td>nan  </td> <td>531  </td> <td>2020-03-07T21:00:00Z</td> <td>531             </td> <td>0            </td> <td>0                   </td> <td>0               </td> <td>9               </td> <td>9                       </td>\n",
       "        </tr>\n",
       "        <tr>\n",
       "            <td>8   </td> <td>CA   </td> <td>88      </td> <td>462     </td> <td>nan    </td> <td>nan         </td> <td>nan  </td> <td>550  </td> <td>2020-03-08T20:00:00Z</td> <td>550             </td> <td>0            </td> <td>0                   </td> <td>0               </td> <td>19              </td> <td>19                      </td>\n",
       "        </tr>\n",
       "        <tr>\n",
       "            <td>9   </td> <td>CA   </td> <td>114     </td> <td>690     </td> <td>nan    </td> <td>nan         </td> <td>nan  </td> <td>804  </td> <td>2020-03-09T20:00:00Z</td> <td>804             </td> <td>0            </td> <td>0                   </td> <td>228             </td> <td>26              </td> <td>254                     </td>\n",
       "        </tr>\n",
       "        <tr>\n",
       "            <td>10  </td> <td>CA   </td> <td>133     </td> <td>690     </td> <td>nan    </td> <td>nan         </td> <td>nan  </td> <td>823  </td> <td>2020-03-10T20:00:00Z</td> <td>823             </td> <td>0            </td> <td>0                   </td> <td>0               </td> <td>19              </td> <td>19                      </td>\n",
       "        </tr>\n",
       "        <tr>\n",
       "            <td>11  </td> <td>CA   </td> <td>157     </td> <td>916     </td> <td>nan    </td> <td>nan         </td> <td>nan  </td> <td>1073 </td> <td>2020-03-11T20:00:00Z</td> <td>1073            </td> <td>0            </td> <td>0                   </td> <td>226             </td> <td>24              </td> <td>250                     </td>\n",
       "        </tr>\n",
       "        <tr>\n",
       "            <td>13  </td> <td>CA   </td> <td>202     </td> <td>916     </td> <td>nan    </td> <td>nan         </td> <td>4    </td> <td>1118 </td> <td>2020-03-13T20:00:00Z</td> <td>1118            </td> <td>0            </td> <td>0                   </td> <td>0               </td> <td>0               </td> <td>0                       </td>\n",
       "        </tr>\n",
       "        <tr>\n",
       "            <td>12  </td> <td>CA   </td> <td>202     </td> <td>916     </td> <td>nan    </td> <td>nan         </td> <td>4    </td> <td>1118 </td> <td>2020-03-12T20:00:00Z</td> <td>1118            </td> <td>4            </td> <td>0                   </td> <td>0               </td> <td>45              </td> <td>45                      </td>\n",
       "        </tr>\n",
       "        <tr>\n",
       "            <td>14  </td> <td>CA   </td> <td>252     </td> <td>916     </td> <td>nan    </td> <td>nan         </td> <td>5    </td> <td>1168 </td> <td>2020-03-14T20:00:00Z</td> <td>1168            </td> <td>1            </td> <td>0                   </td> <td>0               </td> <td>50              </td> <td>50                      </td>\n",
       "        </tr>\n",
       "    </tbody>\n",
       "</table>\n",
       "<p>... (11 rows omitted)</p>"
      ],
      "text/plain": [
       "<IPython.core.display.HTML object>"
      ]
     },
     "metadata": {},
     "output_type": "display_data"
    }
   ],
   "source": [
    "CA_covid.sort(2).show(11)"
   ]
  },
  {
   "cell_type": "code",
   "execution_count": 8,
   "metadata": {},
   "outputs": [
    {
     "data": {
      "text/plain": [
       "4.0"
      ]
     },
     "execution_count": 8,
     "metadata": {},
     "output_type": "execute_result"
    }
   ],
   "source": [
    "# calculates the average duration between doublings using the array generated in the function above\n",
    "\n",
    "def averageDuration(array):\n",
    "    result = 0\n",
    "    for i in np.arange(0, len(array)-1):\n",
    "        result = result + (array[i+1] - array[i])\n",
    "    return result/(len(array)-1)  \n",
    "\n",
    "averageDuration(days_doubled)"
   ]
  },
  {
   "cell_type": "code",
   "execution_count": 9,
   "metadata": {},
   "outputs": [
    {
     "name": "stdout",
     "output_type": "stream",
     "text": [
      "Analysis for CA :\n",
      "\n",
      "Days that cases doubled, starting from the first recorded date ( March 4 ), which had 53.0 cases: [6, 11, 15, 18] , for a total of 4 doublings since March 4th.\n",
      "\n",
      "The last time it doubled was from March 18 to March 21 . The average number of days between doublings is 4.0\n",
      "\n",
      "The current number of positive cases in CA (as of March 25th) is 2102.0 , which is 456.0 cases away from doubling again. The average reported above suggests that the number of positive cases should double again in 0.0 days (considering today is March 25th).\n",
      "\n",
      "Note that a 0 means that it should have doubled again today (March 25th), but has not.\n",
      "\n",
      "Analysis for IL :\n",
      "\n",
      "Days that cases doubled, starting from the first recorded date ( March 4 ), which had 4.0 cases: [7, 11, 13, 15, 17, 20] , for a total of 6 doublings since March 4th.\n",
      "\n",
      "The last time it doubled was from March 20 to March 23 . The average number of days between doublings is 2.6\n",
      "\n",
      "The current number of positive cases in IL (as of March 25th) is 1865.0 , which is 705.0 cases away from doubling again. The average reported above suggests that the number of positive cases should double again in 1.0 days (considering today is March 25th).\n",
      "\n"
     ]
    },
    {
     "data": {
      "image/png": "[encoded data removed]",
      "text/plain": [
       "<Figure size 432x288 with 1 Axes>"
      ]
     },
     "metadata": {},
     "output_type": "display_data"
    }
   ],
   "source": [
    "# returns paragraph of analysis for given state(s) including overlayed plot for each of the states given\n",
    "\n",
    "def covidAnalysis(state):\n",
    "    \n",
    "    for i in state:\n",
    "        \n",
    "        state_covid = covid.where(1, i)\n",
    "    \n",
    "        # check if given state is valid or not\n",
    "        all_states = covid.group(1).column(0)\n",
    "        if i not in all_states:\n",
    "            print('Invalid state')\n",
    "            return\n",
    "    \n",
    "        # plot of positive cases over time\n",
    "        plt.plot(state_covid.column(0), state_covid.column(2), label = i)\n",
    "        plt.xlabel('Date (March)')\n",
    "        plt.ylabel('Positive Cases')\n",
    "        plt.legend()\n",
    "    \n",
    "        state_covid_ascending = state_covid.sort(1, descending = False)\n",
    "        dates_array = state_covid_ascending.column(0)\n",
    "        cases_array = state_covid_ascending.column(2)\n",
    "        dates_array.sort()\n",
    "        cases_array.sort()\n",
    "    \n",
    "        days_doubled = doubled_days(dates_array, cases_array)\n",
    "        \n",
    "        print('Analysis for', i,':')\n",
    "        print('')\n",
    "        \n",
    "        print('Days that cases doubled, starting from the first recorded date ( March', dates_array[0],'), which had',state_covid_ascending.column(2)[0], \n",
    "              'cases:', days_doubled,', for a total of', len(days_doubled), \n",
    "              'doublings since March 4th.')\n",
    "        print('')\n",
    "        print('The last time it doubled was from March', days_doubled[len(days_doubled)-2]+(dates_array[0]-1), 'to March',days_doubled[len(days_doubled)-1]+(dates_array[0]-1),\n",
    "              '. The average number of days between doublings is', round(averageDuration(days_doubled), 3))\n",
    "        print('')\n",
    "        print('The current number of positive cases in', i, '(as of March 25th) is', state_covid.column(2)[0], \n",
    "              ', which is', 2*(state_covid_ascending.where(0, (days_doubled[len(days_doubled)-1])+(dates_array[0]-1)).column(2)[0])-state_covid.column(2)[0], \n",
    "              'cases away from doubling again. The average reported above suggests that the number of positive cases should double again in',\n",
    "             round(((days_doubled[len(days_doubled)-1]+3)+averageDuration(days_doubled)) - 25), 'days (considering today is March 25th).') \n",
    "    \n",
    "        print('')\n",
    "        if ((round(((days_doubled[len(days_doubled)-1]+3)+averageDuration(days_doubled)) - 25)) < 0):\n",
    "            print('Note that a negative number of days means it should have doubled already, but has not.')\n",
    "            print('')\n",
    "        if ((round(((days_doubled[len(days_doubled)-1]+3)+averageDuration(days_doubled)) - 25)) == 0): \n",
    "            print('Note that a 0 means that it should have doubled again today (March 25th), but has not.')\n",
    "            print('')\n",
    "            \n",
    "covidAnalysis(['CA', 'IL'])"
   ]
  },
  {
   "cell_type": "code",
   "execution_count": 10,
   "metadata": {},
   "outputs": [
    {
     "name": "stdout",
     "output_type": "stream",
     "text": [
      "53.0\n",
      "106.0\n",
      "212.0\n"
     ]
    }
   ],
   "source": [
    "def f(a,t,k): #exponential function, taking arguments a (initial value), t (time), k (growth rate)\n",
    "    return round(a*np.e**(k*t))\n",
    "\n",
    "# if amonut doubles every 4 days, growth rate is ln(2)/4\n",
    "print(f(53, 0, np.log(3)/4))\n",
    "print(f(53, 4, np.log(2)/4))\n",
    "print(f(53, 8, np.log(2)/4))"
   ]
  },
  {
   "cell_type": "code",
   "execution_count": 12,
   "metadata": {},
   "outputs": [],
   "source": [
    "# calculates the number of cases in a given state if the current rate of doubling were to continue for ndays days\n",
    "\n",
    "def continueDouble(state, ndays):\n",
    "    \n",
    "    for i in state:\n",
    "        \n",
    "        state_covid = covid.where(1, i)\n",
    "    \n",
    "        all_states = covid.group(1).column(0)\n",
    "        if i not in all_states:\n",
    "            print('Invalid state')\n",
    "            return\n",
    "    \n",
    "        state_covid_ascending = state_covid.sort(1, descending = False)\n",
    "        dates_array = state_covid_ascending.column(0)\n",
    "        cases_array = state_covid_ascending.column(2)\n",
    "        \n",
    "        continuation_table = Table().with_columns('Date (March)', dates_array, 'Positive Cases', cases_array) #for later use below\n",
    "        \n",
    "        #sort the continuation table for use in doubled_days function\n",
    "        continuation_table = continuation_table.sort(0, descending = False)\n",
    "        # sort the dates and cases array for use in calculating the current number of cases and current date\n",
    "        dates_array.sort()\n",
    "        cases_array.sort()\n",
    "    \n",
    "        days_doubled = doubled_days(continuation_table.column(0), continuation_table.column(1))\n",
    "        average_duration = averageDuration(days_doubled)\n",
    "        \n",
    "        growth_rate = np.log(2)/average_duration\n",
    "        \n",
    "        # add row to continuation table for each day after the last recorded date where data was recorded\n",
    "        # adds rows based on exponential model with the growth rate calculated using the average duration between doublings\n",
    "        for j in np.arange(0, ndays):\n",
    "            continuation_table = continuation_table.with_row([(dates_array[len(dates_array)-1]+j+1), (f(cases_array[len(cases_array)-1],j,growth_rate))])\n",
    "            \n",
    "        # plot the projection given the current trend of doubling every x days continues for ndays days\n",
    "        plt.plot(continuation_table.column(0), continuation_table.column(1))\n",
    "        \n",
    "        print('There are currently', cases_array[len(cases_array)-1], 'cases in', i)\n",
    "        print('If this rate ( doubling every', round(average_duration, 3), 'days ) continues for', ndays, 'days, then there will be',f(cases_array[len(cases_array)-1],ndays,growth_rate), 'cases')"
   ]
  },
  {
   "cell_type": "code",
   "execution_count": 13,
   "metadata": {},
   "outputs": [
    {
     "name": "stdout",
     "output_type": "stream",
     "text": [
      "There are currently 2102.0 cases in CA\n",
      "If this rate ( doubling every 4.0 days ) continues for 20 days, then there will be 67264.0 cases\n"
     ]
    },
    {
     "data": {
      "image/png": "[encoded data removed]",
      "text/plain": [
       "<Figure size 432x288 with 1 Axes>"
      ]
     },
     "metadata": {},
     "output_type": "display_data"
    }
   ],
   "source": [
    "# example: if the current rate of doubling in CA so far continues for 20 days, there will be this many cases\n",
    "continueDouble(['CA'], 20)\n",
    "# we can see that the exponential model takes over after the 25th, which is the last day of recorded data"
   ]
  },
  {
   "cell_type": "code",
   "execution_count": 14,
   "metadata": {},
   "outputs": [
    {
     "data": {
      "application/vnd.jupyter.widget-view+json": {
       "model_id": "a21e1d5623c54b43803cb8d985369201",
       "version_major": 2,
       "version_minor": 0
      },
      "text/plain": [
       "interactive(children=(Dropdown(description='state', options=(['AK'], ['AL'], ['AR'], ['AS'], ['AZ'], ['CA'], […"
      ]
     },
     "metadata": {},
     "output_type": "display_data"
    },
    {
     "data": {
      "text/plain": [
       "<function __main__.continueDouble(state, ndays)>"
      ]
     },
     "execution_count": 14,
     "metadata": {},
     "output_type": "execute_result"
    }
   ],
   "source": [
    "# interact feature: choose a state from the dropdown meny and adjust the slider for the number of days\n",
    "# ndays ranges from 0 days to 1 month (30 days)\n",
    "interact(continueDouble, state = listofstates, ndays = widgets.IntSlider(min=0, max=30, step=1, value=5))\n",
    "# this does not show up on the HTML file, but I have attached a picture of the module to the email sent"
   ]
  },
  {
   "cell_type": "markdown",
   "metadata": {},
   "source": [
    "## Overall Analysis for CA\n",
    "\n",
    "The number of positive cases in California has doubled 4 times since the first set of data was recorded on March 4th (53 cases). On March 25th, the number of cases is close to doubling again since the last doubling event on March 21st. This analysis may be flawed because there is a very limited data set thus far, but across all states the average duration between doublings seems to be in a similar range: about 2-4. \n",
    "\n",
    "It seems that the number of positive cases in CA is doubling every 3-5 days (average of 4 days). It also seems that it is doubling more rapidly as time goes on, with there being 5 days between the first doubling (March 4th-March 9th), 5 between the second (March 9th-March 14th), 4 between the third (March 14th-March 18th), and 3 between the fourth (March 18th-March 21st). It is not immediately clear if this negative trend in the number of days between doublings is just a coincidence due to limited data, or if it means that the number of positive cases is more quickly accelerating. I suspect that although there is limited data here, it is in fact accelerating (so some of both). However, note that the last time it doubled was 5 days ago already, and it has not doubled yet. \n",
    "\n",
    "See below for detailed explanation of the 4 doubling events:\n",
    "\n",
    "It first \"doubled\" from 53 to 114 on March 9th (the 6th day of recorded data). Then, it doubled again up to 252 on March 14th (11th day). Then, doubled again to 611 on March 18th (15th day), and lastly up to 1279 on March 21st (18th day). It is currently March 26th and the number of cases is 2102. The average of 4 days between doublings suggests that this number should hit 2558 (double the amount when it last doubled on March 21st) very soon.\n",
    "\n",
    "### Modifications\n",
    "\n",
    "Note that this method of analysis can very easily be modified to be applied to visualize many different aspects of the spread of COVID-19. For example, it would be simple to plot the percentage of the population that is infected rather than just the total amount of cases, which would give a better idea of how serious this situation is in different states. Also, the raw data used includes information about deaths, negative tests, people hospitalized, etc, so we could also analyze these numbers in the same way as instead of using positive cases. I am also interested in finding data about the number of available tests to see if the increase in positive cases is in large part due to there being many more tests available, and these \"new\" cases are not actually new at all (they were just undetected before). However, I was not able to find this data anywhere. "
   ]
  },
  {
   "cell_type": "code",
   "execution_count": null,
   "metadata": {},
   "outputs": [],
   "source": []
  }
 ],
 "metadata": {
  "kernelspec": {
   "display_name": "Python 3",
   "language": "python",
   "name": "python3"
  },
  "language_info": {
   "codemirror_mode": {
    "name": "ipython",
    "version": 3
   },
   "file_extension": ".py",
   "mimetype": "text/x-python",
   "name": "python",
   "nbconvert_exporter": "python",
   "pygments_lexer": "ipython3",
   "version": "3.6.7"
  }
 },
 "nbformat": 4,
 "nbformat_minor": 4
}
